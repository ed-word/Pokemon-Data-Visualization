{
  "metadata": {
    "kernelspec": {
      "display_name": "Python 3",
      "language": "python",
      "name": "python3"
    },
    "language_info": {
      "codemirror_mode": {
        "name": "ipython",
        "version": 3
      },
      "file_extension": ".py",
      "mimetype": "text/x-python",
      "name": "python",
      "nbconvert_exporter": "python",
      "pygments_lexer": "ipython3",
      "version": "3.6.0"
    }
  },
  "nbformat": 4,
  "nbformat_minor": 0,
  "cells": [
    {
      "cell_type": "markdown",
      "source": "https://github.com/ed-word/Pokemon-Stats_Comparison-Visualization\n\n\n\n**Part 1**\n----------\n\n## Pokemon Data Visualization ##\n\n\n----------\nPython Program to analyse the Pokemon Dataset and\n\n - Plot the average power for each Pokemon type in the form of a Bar chart.\n - 3D Scatter Plot for all Pokemons based on Attack, Defense and HP.\n\nThis program makes use of libraries such as:\n\n - Pandas\n - Matplotlib\n - Numpy\n - mpl_toolkits.mplot3d (Axes3D)\n\n\n----------",
      "outputs": [],
      "metadata": {}
    },
    {
      "cell_type": "code",
      "source": "import pandas as pd \nfrom collections import defaultdict\nfrom matplotlib import pyplot as plt\nfrom mpl_toolkits.mplot3d import Axes3D\nimport matplotlib.patches as mpatches\nimport numpy as np\nplt.style.use('ggplot')\n\ndf = pd.read_csv(\"../input/Pokemon.csv\")\n#print(df.head())\n\n\nnew_df = df\nnew_df.drop( ['#'], 1, inplace=True )\nnew_df.drop( ['Type 2'], 1, inplace=True )\nnew_df.drop( ['Generation'], 1, inplace=True )\nnew_df.drop( ['Legendary'], 1, inplace=True )\n\nprint(new_df.head())",
      "execution_count": null,
      "outputs": [],
      "metadata": {}
    },
    {
      "cell_type": "code",
      "source": "# This Python 3 environment comes with many helpful analytics libraries installed\n# It is defined by the kaggle/python docker image: https://github.com/kaggle/docker-python\n# For example, here's several helpful packages to load in \n\nimport numpy as np # linear algebra\nimport pandas as pd # data processing, CSV file I/O (e.g. pd.read_csv)\n\n# Input data files are available in the \"../input/\" directory.\n# For example, running this (by clicking run or pressing Shift+Enter) will list the files in the input directory\n\nfrom subprocess import check_output\nprint(check_output([\"ls\", \"../input\"]).decode(\"utf8\"))\n\n# Any results you write to the current directory are saved as output.",
      "execution_count": null,
      "outputs": [],
      "metadata": {}
    },
    {
      "cell_type": "markdown",
      "source": "Colors Used To Represent Pokemon types\nhttp://www.epidemicjohto.com/t882-type-colors-hex-colors\n\n![](https://lh3.googleusercontent.com/-rGLDKQikvG8/WOtmLXzUF7I/AAAAAAAABlM/s_NUvFdE4Bc6WFdQDCCwVDP4rg_s6forQCLcB/s0/legend.png \"legend.png\")\n\n----------",
      "outputs": [],
      "metadata": {}
    },
    {
      "cell_type": "code",
      "source": "Colors = dict()\nColors['Normal'] = '#A8A77A'\nColors['Fire'] = '#EE8130'\nColors['Water'] = '#6390F0'\nColors['Electric'] = '#F7D02C'\nColors['Grass'] = '#7AC74C'\nColors['Ice'] = '#96D9D6'\nColors['Fighting'] = '#C22E28'\nColors['Poison'] = '#A33EA1'\nColors['Ground'] = '#E2BF65'\nColors['Flying'] = '#A98FF3'\nColors['Psychic'] = '#F95587'\nColors['Bug'] = '#A6B91A'\nColors['Rock'] = '#B6A136'\nColors['Ghost'] = '#735797'\nColors['Dragon'] = '#6F35FC'\nColors['Dark'] = '#705746'\nColors['Steel'] = '#B7B7CE'\nColors['Fairy'] = '#D685AD'\n\n\npatch = []\nfor i in Colors:\n\tpatch.append( mpatches.Patch(color=Colors[i], label=i) )\nplt.legend(loc=10, ncol=3, borderaxespad=0., handles=patch)\n#plt.show()",
      "execution_count": null,
      "outputs": [],
      "metadata": {}
    },
    {
      "cell_type": "code",
      "source": "Attack = defaultdict(list)\nDefense = defaultdict(list)\nHP = defaultdict(list) \nSpeed = defaultdict(list) \nType_Strength = defaultdict(list)\n\nfor index,row in new_df.iterrows():\n\tAttack[row['Type 1']].append( (row['Attack'] + row ['Sp. Atk'])/float(2) )\n\tDefense[row['Type 1']].append( (row['Defense'] + row ['Sp. Def'])/float(2) )\n\tHP[row['Type 1']].append( row['HP'] )\n\tSpeed[row['Type 1']].append( row['Speed'] )\n\n\tType_Strength[row['Type 1']].append( row['Total'] )\n\nTypes = []\nfor i in Attack:\n\tTypes.append(i)",
      "execution_count": null,
      "outputs": [],
      "metadata": {}
    },
    {
      "cell_type": "markdown",
      "source": "3D Scatter Plot of all Pokemons\n-------------------------------\n\n     1. X-axis: Attack\n     2. Y-axis: Defense\n     3. Z- axis: HP\n \n ![](https://lh3.googleusercontent.com/-HaEPss6ZoLA/WOkuy0jfqxI/AAAAAAAABjY/IT1PtlgN_gYYl39ebuvKatovNhyrg_LdwCLcB/s0/3D.png \"3D.png\")\n \n\n----------",
      "outputs": [],
      "metadata": {}
    },
    {
      "cell_type": "code",
      "source": "fig = plt.figure()\nax = fig.add_subplot(111, projection='3d')\n\nfor i in Types:\n\tax.scatter( Attack[i], Defense[i], HP[i], c=Colors[i] )\n\nax.set_xlabel('Attack')\nax.set_ylabel('Defense')\nax.set_zlabel('HP')\n\nplt.show()",
      "execution_count": null,
      "outputs": [],
      "metadata": {}
    },
    {
      "cell_type": "markdown",
      "source": "Comparison Of Attack, Defense, HP and Speed\n-------------------------------------------\n\n \n\n![](https://lh3.googleusercontent.com/-i7kxITcW-T4/WOtmbR6wKqI/AAAAAAAABlU/yfhCFLDRsZcNfSrmYP2dEniRPuiTN-YUQCLcB/s0/Main+bar.png \"Main bar.png\")\n\n----------",
      "outputs": [],
      "metadata": {}
    },
    {
      "cell_type": "code",
      "source": "for i in Types:\n\tAttack[i] = sum(Attack[i]) / float(len(Attack[i]))\t\n\tDefense[i] = sum(Defense[i]) / float(len(Defense[i]))\n\tHP[i] = sum(HP[i]) / float(len(HP[i]))\n\tSpeed[i] = sum(Speed[i]) / float(len(Speed[i]))\n\n\nvalues = [HP[i] for i in HP]\n\nind = np.arange(4)  \t\t# the x locations for the groups\nwidth = 0.04      \t\t# the width of the bars\n\nfig, ax = plt.subplots()\n\n\nnum=0\nfor i in Types:\n\tax.bar(ind + num*width, [Attack[i], Defense[i], HP[i], Speed[i]], width, color=Colors[i]) \n\tnum+=1\n\n# add some text for labels, title and axes ticks\nax.set_xticks(ind + num*width / 2)\nax.set_xticklabels(('Attack', 'Defense', 'HP', 'Speed'))\n\nplt.show()",
      "execution_count": null,
      "outputs": [],
      "metadata": {}
    },
    {
      "cell_type": "markdown",
      "source": "Average Power comparison\n------------------------\n\n \n\n - Grass Type, Fire Type and Water Type Pokemons.\n![](https://lh3.googleusercontent.com/-lBRYey9Tr_s/WOksg-WEHzI/AAAAAAAABic/ZnYN7osc7MsYLiRIYALN9VGpphTEXjwbQCLcB/s0/figure_1-1.png \"figure_1-1.png\")\n\n\n - Dragon, Flying, Steel, Rock, Ice Type comparison\n![](https://lh3.googleusercontent.com/-FavMT9_vBQM/WOktHIn3qpI/AAAAAAAABio/AsinylQFS2kzBeFVLcWs2piKSV3JzG4sQCLcB/s0/figure_2.png \"figure_2.png\")\n\n\n - Electric, Bug, Normal, Ground, Fighting Type comparison\n![](https://lh3.googleusercontent.com/-cm2iKVDoo2I/WOkt5TUSqoI/AAAAAAAABi4/MeNPemFYWPomSywWqfF70u_-MjoegOQEgCLcB/s0/figure_3.png \"figure_3.png\")\n\n\n - Ghost, Dark, Psychic, Fairy, Poison Type comparison\n![](https://lh3.googleusercontent.com/-i6Cy6Zora_w/WOkuVNWlLhI/AAAAAAAABjA/pXhe4VHbpioa-OQUX1Eu57FK-GeLSjmFwCLcB/s0/figure_4.png \"figure_4.png\")\n\n\n----------",
      "outputs": [],
      "metadata": {}
    },
    {
      "cell_type": "code",
      "source": "for i in Type_Strength:\n\tType_Strength[i] = sum(Type_Strength[i]) / float(len(Type_Strength[i]))\t\n\tprint(i,\"   \",Type_Strength[i])\n\nXloc = np.array( range(3) )\nlabels = ['Grass', 'Fire', 'Water']\nvalues = [Type_Strength[i] for i in labels]\nwidth = 0.5\n\nbarlist = plt.bar( Xloc, values, width=width )\nbarlist[0].set_color(Colors[labels[0]])\nbarlist[1].set_color(Colors[labels[1]])\nbarlist[2].set_color(Colors[labels[2]])\nplt.xticks( Xloc, labels)\nplt.show()\n\n\n\nXloc = np.array( range(5) )\nlabels = ['Dragon', 'Flying', 'Steel', 'Rock', 'Ice']\nvalues = [Type_Strength[i] for i in labels]\nwidth = 0.5\n\nbarlist = plt.bar( Xloc, values, width=width )\nbarlist[0].set_color(Colors[labels[0]])\nbarlist[1].set_color(Colors[labels[1]])\nbarlist[2].set_color(Colors[labels[2]])\nbarlist[3].set_color(Colors[labels[3]])\nbarlist[4].set_color(Colors[labels[4]])\nplt.xticks( Xloc, labels)\nplt.show()\n\n\n\nXloc = np.array( range(5) )\nlabels = ['Electric', 'Bug', 'Normal', 'Ground', 'Fighting']\nvalues = [Type_Strength[i] for i in labels]\nwidth = 0.5\n\nbarlist = plt.bar( Xloc, values, width=width )\nbarlist[0].set_color(Colors[labels[0]])\nbarlist[1].set_color(Colors[labels[1]])\nbarlist[2].set_color(Colors[labels[2]])\nbarlist[3].set_color(Colors[labels[3]])\nbarlist[4].set_color(Colors[labels[4]])\nplt.xticks( Xloc, labels)\nplt.show()\n\n\nXloc = np.array( range(5) )\nlabels = ['Ghost', 'Dark', 'Psychic', 'Fairy', 'Poison']\nvalues = [Type_Strength[i] for i in labels]\nwidth = 0.5\n\nbarlist = plt.bar( Xloc, values, width=width )\nbarlist[0].set_color(Colors[labels[0]])\nbarlist[1].set_color(Colors[labels[1]])\nbarlist[2].set_color(Colors[labels[2]])\nbarlist[3].set_color(Colors[labels[3]])\nbarlist[4].set_color(Colors[labels[4]])\nplt.xticks( Xloc, labels)\nplt.show()",
      "execution_count": null,
      "outputs": [],
      "metadata": {}
    },
    {
      "cell_type": "markdown",
      "source": "**Part 2**\n----------\n## Pokemon Stats Comparison ##\n\n**Compares Stats of any 2 Pokemons.**\n\nThe stats compared are:\n\n 1. Attack\n 2. Defence\n 3. Special Attack\n 4. Special Defence\n 5. HP\n 6. Speed\n\n----------\nPython Program to compare pokemon stats and\n\n - Plot pie chart for the 2 Pokemons.\n - Radar plot for the 2 Pokemons.\n - A bar graph to compare stats.\n\nThis program makes use of libraries such as:\n\n - Pandas\n - Matplotlib\n - Numpy\n\n----------",
      "outputs": [],
      "metadata": {}
    },
    {
      "cell_type": "markdown",
      "source": "\nHere, we will compare Mewtwo and Articuno.\n\n![](https://lh3.googleusercontent.com/-0wENKNuPfjc/WO6D6LX6kpI/AAAAAAAABm8/JX1IDHngxQMsRanz4fVbPsXQCb0kxR5tQCLcB/s0/pjimage.jpg \"Mewtwo_VS_Articuno.jpg\")\n\n----------",
      "outputs": [],
      "metadata": {}
    },
    {
      "cell_type": "code",
      "source": "#Pokemon1_name = input()\n#Pokemon2_name = input()\t\t#Taking Input for Pokemons to compare\n\t\t\t\t\nPokemon1_name = 'Mewtwo'\t\nPokemon2_name = 'Articuno'\n\nPokemon1 = new_df.loc[ new_df['Name']==Pokemon1_name ]\nPokemon2 = new_df.loc[ new_df['Name']==Pokemon2_name ]\n\nlabels = 'Attack', 'Defense', 'Sp. Atk', 'Sp. Def', 'HP', 'Speed'\n\nP1_data=[]\nfor i in labels:\n\tP1_data.append( int(Pokemon1[i]) )\n\nP2_data=[]\nfor i in labels:\n\tP2_data.append( int(Pokemon2[i]) )",
      "execution_count": null,
      "outputs": [],
      "metadata": {}
    },
    {
      "cell_type": "markdown",
      "source": "Pie chart for Pokemon Stats\n-------------------------------\n ![](https://lh3.googleusercontent.com/-ta7Hz_fJXD4/WO6GYqyUbnI/AAAAAAAABnU/MuosfznEzRojC6p9W3l9T_IPXRn9l2OdACLcB/s0/pjimage+%25281%2529.jpg \"pie.jpg\")\n\n----------",
      "outputs": [],
      "metadata": {}
    },
    {
      "cell_type": "code",
      "source": "index = P1_data.index( max(P1_data) )\n\nexplode = [0, 0, 0, 0, 0]\nexplode.insert(index,0.1)\n\n\nfig1, ax1 = plt.subplots()\nax1.pie(P1_data, explode=explode, labels=labels, autopct='%1.1f%%', shadow=True, startangle=90)\nax1.axis('equal') \nplt.title(Pokemon1_name+\" Stats\")\nplt.show()\n\n\n\nindex = P2_data.index( max(P2_data) )\n\nexplode = [0, 0, 0, 0, 0]\nexplode.insert(index,0.1)\n\n\nfig2, ax2 = plt.subplots()\nax2.pie(P2_data, explode=explode, labels=labels, autopct='%1.1f%%', shadow=True, startangle=90)\nax2.axis('equal') \nplt.title(Pokemon2_name+\" Stats\")\nplt.show()",
      "execution_count": null,
      "outputs": [],
      "metadata": {}
    },
    {
      "cell_type": "markdown",
      "source": "Radar Plot for Mewtwo VS Articuno\n-------------------------------------------\n\n \n![](https://lh3.googleusercontent.com/-5I93_6xC9kU/WO6GEmuU3SI/AAAAAAAABnM/bMtXoMZuTdsKf7bdHvackRgIRFfW9zmbwCLcB/s0/rad.png \"rad.png\")\n\n----------",
      "outputs": [],
      "metadata": {}
    },
    {
      "cell_type": "code",
      "source": "# A radar chart example: http://datascience.stackexchange.com/questions/6084/how-do-i-create-a-complex-radar-chart\ndef _scale_data(data, ranges):\n    (x1, x2), d = ranges[0], data[0]\n    return [(d - y1) / (y2 - y1) * (x2 - x1) + x1 for d, (y1, y2) in zip(data, ranges)]\n\nclass RaderChart():\n    def __init__(self, fig, variables, ranges, n_ordinate_levels = 6):\n        angles = np.arange(0, 360, 360./len(variables))\n\n        axes = [fig.add_axes([0.1,0.1,0.8,0.8],polar = True, label = \"axes{}\".format(i)) for i in range(len(variables))]\n        _, text = axes[0].set_thetagrids(angles, labels = variables)\n        \n        for txt, angle in zip(text, angles):\n            txt.set_rotation(angle - 90)\n        \n        for ax in axes[1:]:\n            ax.patch.set_visible(False)\n            ax.xaxis.set_visible(False)\n            ax.grid('off')\n        \n        for i, ax in enumerate(axes):\n            grid = np.linspace(*ranges[i], num = n_ordinate_levels)\n            grid_label = ['']+[str(int(x)) for x in grid[1:]]\n            ax.set_rgrids(grid, labels = grid_label, angle = angles[i])\n            ax.set_ylim(*ranges[i])\n        \n        self.angle = np.deg2rad(np.r_[angles, angles[0]])\n        self.ranges = ranges\n        self.ax = axes[0]\n\n    def plot(self, data, *args, **kw):\n        sdata = _scale_data(data, self.ranges)\n        self.ax.plot(self.angle, np.r_[sdata, sdata[0]], *args, **kw)\n\n    def fill(self, data, *args, **kw):\n        sdata = _scale_data(data, self.ranges)\n        self.ax.fill(self.angle, np.r_[sdata, sdata[0]], *args, **kw)\n\n    def legend(self, *args, **kw):\n        self.ax.legend(*args, **kw)\n\n\n\nmax_val=[]\nfor i in range(len(P1_data)):\n    max_val.append( max(P1_data[i],P2_data[i]) )\n\nranges = [[2**-20, mv] for mv in max_val]\n\n\n\nfig = plt.figure(figsize=(10, 10))\nradar = RaderChart(fig, labels, ranges)\n\nradar.plot(P1_data, color = 'r', label = Pokemon1_name)\nradar.fill(P1_data, alpha = 0.1, color = 'r')\nradar.legend(loc = 1, fontsize = 'small')\n\nradar.plot(P2_data, color = 'b', label = Pokemon2_name)\nradar.fill(P2_data, alpha = 0.1, color = 'b')\nradar.legend(loc = 1, fontsize = 'small')\n\nplt.title(Pokemon1_name+\" vs \"+Pokemon2_name)\nplt.show()",
      "execution_count": null,
      "outputs": [],
      "metadata": {}
    },
    {
      "cell_type": "markdown",
      "source": "Bar Graph for Mewtwo VS Articuno\n------------------------\n\n![](https://lh3.googleusercontent.com/-IXpSIRD9Hkg/WO6GnXKY9YI/AAAAAAAABnc/cYQEWz01zj8uMzSAvnFtyTHZA-QzhOZ6wCLcB/s0/bar.png \"bar.png\")\n \n\n----------",
      "outputs": [],
      "metadata": {}
    },
    {
      "cell_type": "code",
      "source": "ind = np.arange(6)  \t\t# the x locations for the groups\nwidth = 0.25      \t\t\t# the width of the bars\n\nfig, ax = plt.subplots()\n\nax.bar(ind, P1_data, width, color='r') \nax.bar(ind + width, P2_data, width, color='b') \n\nax.set_xticks(ind + width / 2)\nax.set_xticklabels(labels)\nplt.title(Pokemon1_name+\" vs \"+Pokemon2_name)\nplt.show()",
      "execution_count": null,
      "outputs": [],
      "metadata": {}
    }
  ]
}
